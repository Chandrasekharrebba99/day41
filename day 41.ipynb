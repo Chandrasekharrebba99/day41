{
 "cells": [
  {
   "cell_type": "code",
   "execution_count": 1,
   "id": "24b9ab72",
   "metadata": {},
   "outputs": [
    {
     "name": "stdout",
     "output_type": "stream",
     "text": [
      "HEllo world\n"
     ]
    }
   ],
   "source": [
    "print(\"HEllo world\")"
   ]
  },
  {
   "cell_type": "code",
   "execution_count": 5,
   "id": "18588280",
   "metadata": {},
   "outputs": [
    {
     "name": "stdout",
     "output_type": "stream",
     "text": [
      "[21, 1, 3, 23]\n"
     ]
    }
   ],
   "source": [
    "def array1(arr):\n",
    "    arr.append(23)\n",
    "    \n",
    "arr = [21,1,3]\n",
    "array1(arr)\n",
    "print(arr)"
   ]
  },
  {
   "cell_type": "code",
   "execution_count": 6,
   "id": "ffe87cf9",
   "metadata": {},
   "outputs": [
    {
     "data": {
      "text/plain": [
       "163"
      ]
     },
     "execution_count": 6,
     "metadata": {},
     "output_type": "execute_result"
    }
   ],
   "source": [
    "75+88"
   ]
  },
  {
   "cell_type": "code",
   "execution_count": 7,
   "id": "a34f7047",
   "metadata": {},
   "outputs": [
    {
     "data": {
      "text/plain": [
       "175"
      ]
     },
     "execution_count": 7,
     "metadata": {},
     "output_type": "execute_result"
    }
   ],
   "source": [
    "75+100"
   ]
  },
  {
   "cell_type": "code",
   "execution_count": 8,
   "id": "ec25def2",
   "metadata": {},
   "outputs": [
    {
     "data": {
      "text/plain": [
       "92.09039548022598"
      ]
     },
     "execution_count": 8,
     "metadata": {},
     "output_type": "execute_result"
    }
   ],
   "source": [
    "163/177 * 100"
   ]
  },
  {
   "cell_type": "code",
   "execution_count": 16,
   "id": "50cdbb61",
   "metadata": {},
   "outputs": [
    {
     "name": "stdout",
     "output_type": "stream",
     "text": [
      "[1, 2, 3, 3]\n"
     ]
    }
   ],
   "source": [
    "def add_item(list_x = []):\n",
    "    list_x += [3]\n",
    "    \n",
    "\n",
    "list_a = [1,2]\n",
    "add_item(list_a)\n",
    "add_item(list_a)\n",
    "print(list_a)"
   ]
  },
  {
   "cell_type": "code",
   "execution_count": 13,
   "id": "624c0e61",
   "metadata": {},
   "outputs": [
    {
     "name": "stdout",
     "output_type": "stream",
     "text": [
      "1\n",
      "2\n",
      "3\n",
      "12\n",
      "3\n",
      "23\n",
      "424\n"
     ]
    }
   ],
   "source": [
    "k = (1,2,3,12,3,23,424)\n",
    "for i in k:\n",
    "    print(i)"
   ]
  },
  {
   "cell_type": "code",
   "execution_count": 14,
   "id": "347fda56",
   "metadata": {},
   "outputs": [],
   "source": [
    "ar = [12,3,213,12,3,34]\n",
    "ar.remove(12)"
   ]
  },
  {
   "cell_type": "code",
   "execution_count": 15,
   "id": "2d270060",
   "metadata": {},
   "outputs": [
    {
     "data": {
      "text/plain": [
       "[3, 213, 12, 3, 34]"
      ]
     },
     "execution_count": 15,
     "metadata": {},
     "output_type": "execute_result"
    }
   ],
   "source": [
    "ar"
   ]
  },
  {
   "cell_type": "code",
   "execution_count": null,
   "id": "53c88973",
   "metadata": {},
   "outputs": [],
   "source": []
  }
 ],
 "metadata": {
  "kernelspec": {
   "display_name": "Python 3 (ipykernel)",
   "language": "python",
   "name": "python3"
  },
  "language_info": {
   "codemirror_mode": {
    "name": "ipython",
    "version": 3
   },
   "file_extension": ".py",
   "mimetype": "text/x-python",
   "name": "python",
   "nbconvert_exporter": "python",
   "pygments_lexer": "ipython3",
   "version": "3.8.0"
  }
 },
 "nbformat": 4,
 "nbformat_minor": 5
}
